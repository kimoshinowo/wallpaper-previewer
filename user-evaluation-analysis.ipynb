{
 "cells": [
  {
   "cell_type": "code",
   "execution_count": 59,
   "metadata": {},
   "outputs": [],
   "source": [
    "import numpy as np\n",
    "import pandas as pd\n",
    "\n",
    "from scipy.stats import wilcoxon"
   ]
  },
  {
   "cell_type": "code",
   "execution_count": 24,
   "metadata": {},
   "outputs": [],
   "source": [
    "df = pd.read_csv(\"data-collection/user-eval-results-og.csv\")"
   ]
  },
  {
   "cell_type": "code",
   "execution_count": 25,
   "metadata": {},
   "outputs": [],
   "source": [
    "df = df[[\"3. Which age bracket do you fit into?\",\"4. What gender identity best describes you?\",\"5. How realistic is this image?\",\"6. Would find the quality of image helpful if you were using it to decide what wallpaper to use in your own home?\",\"7. How realistic is this image?\",\"8. Would find the quality of image helpful if you were using it to decide what wallpaper to use in your own home?\",\"9. How realistic is this image?\",\"10. Would find the quality of image helpful if you were using it to decide what wallpaper to use in your own home?\",\"11. How realistic is this image?\",\"12. Would find the quality of image helpful if you were using it to decide what wallpaper to use in your own home?\",\"13. How realistic is this image?\",\"14. Would find the quality of image helpful if you were using it to decide what wallpaper to use in your own home?\",\"15. How realistic is this image?\",\"16. Would find the quality of image helpful if you were using it to decide what wallpaper to use in your own home?\",\"17. How realistic is this image?\",\"18. Would find the quality of image helpful if you were using it to decide what wallpaper to use in your own home?\",\"19. How realistic is this image?\",\"20. Would find the quality of image helpful if you were using it to decide what wallpaper to use in your own home?\",\"21. How realistic is this image?\",\"22. Would find the quality of image helpful if you were using it to decide what wallpaper to use in your own home?\",\"23. How realistic is this image?\",\"24. Would find the quality of image helpful if you were using it to decide what wallpaper to use in your own home?\",\"25. How realistic is this image?\",\"26. Would find the quality of image helpful if you were using it to decide what wallpaper to use in your own home?\",\"27. How realistic is this image?\",\"28. Would find the quality of image helpful if you were using it to decide what wallpaper to use in your own home?\",\"29. How realistic is this image?\",\"30. Would find the quality of image helpful if you were using it to decide what wallpaper to use in your own home?\",\"31. How realistic is this image?\",\"32. Would find the quality of image helpful if you were using it to decide what wallpaper to use in your own home?\",\"33. How realistic is this image?\",\"34. Would find the quality of image helpful if you were using it to decide what wallpaper to use in your own home?\",\"35. How realistic is this image?\",\"36. Would find the quality of image helpful if you were using it to decide what wallpaper to use in your own home?\",\"37. How realistic is this image?\",\"38. Would find the quality of image helpful if you were using it to decide what wallpaper to use in your own home?\",\"39. How realistic is this image?\",\"40. Would find the quality of image helpful if you were using it to decide what wallpaper to use in your own home?\",\"41. How realistic is this image?\",\"42. Would find the quality of image helpful if you were using it to decide what wallpaper to use in your own home?\",\"43. How realistic is this image?\",\"44. Would find the quality of image helpful if you were using it to decide what wallpaper to use in your own home?\"]]"
   ]
  },
  {
   "cell_type": "code",
   "execution_count": 26,
   "metadata": {},
   "outputs": [],
   "source": [
    "df = df.rename(columns={\n",
    "    \"3. Which age bracket do you fit into?\": \"age\",\n",
    "    \"4. What gender identity best describes you?\": \"gender\",\n",
    "    \"5. How realistic is this image?\": \"score-p1\",\n",
    "    \"6. Would find the quality of image helpful if you were using it to decide what wallpaper to use in your own home?\": \"useful-p1\",\n",
    "    \"7. How realistic is this image?\": \"score-w1\",\n",
    "    \"8. Would find the quality of image helpful if you were using it to decide what wallpaper to use in your own home?\": \"useful-w1\",\n",
    "    \"9. How realistic is this image?\": \"score-w2\",\n",
    "    \"10. Would find the quality of image helpful if you were using it to decide what wallpaper to use in your own home?\": \"useful-w2\",\n",
    "    \"11. How realistic is this image?\": \"score-p2\",\n",
    "    \"12. Would find the quality of image helpful if you were using it to decide what wallpaper to use in your own home?\": \"useful-p2\",\n",
    "    \"13. How realistic is this image?\": \"score-w3\",\n",
    "    \"14. Would find the quality of image helpful if you were using it to decide what wallpaper to use in your own home?\": \"useful-w3\",\n",
    "    \"15. How realistic is this image?\": \"score-p3\",\n",
    "    \"16. Would find the quality of image helpful if you were using it to decide what wallpaper to use in your own home?\": \"useful-p3\",\n",
    "    \"17. How realistic is this image?\": \"score-p4\",\n",
    "    \"18. Would find the quality of image helpful if you were using it to decide what wallpaper to use in your own home?\": \"useful-p4\",\n",
    "    \"19. How realistic is this image?\": \"score-w4\",\n",
    "    \"20. Would find the quality of image helpful if you were using it to decide what wallpaper to use in your own home?\": \"useful-w4\",\n",
    "    \"21. How realistic is this image?\": \"score-w5\",\n",
    "    \"22. Would find the quality of image helpful if you were using it to decide what wallpaper to use in your own home?\": \"useful-w5\",\n",
    "    \"23. How realistic is this image?\": \"score-p5\",\n",
    "    \"24. Would find the quality of image helpful if you were using it to decide what wallpaper to use in your own home?\": \"useful-p5\",\n",
    "    \"25. How realistic is this image?\": \"score-p6\",\n",
    "    \"26. Would find the quality of image helpful if you were using it to decide what wallpaper to use in your own home?\": \"useful-p6\",\n",
    "    \"27. How realistic is this image?\": \"score-w6\",\n",
    "    \"28. Would find the quality of image helpful if you were using it to decide what wallpaper to use in your own home?\": \"useful-w6\",\n",
    "    \"29. How realistic is this image?\": \"score-p7\",\n",
    "    \"30. Would find the quality of image helpful if you were using it to decide what wallpaper to use in your own home?\": \"useful-p7\",\n",
    "    \"31. How realistic is this image?\": \"score-w7\",\n",
    "    \"32. Would find the quality of image helpful if you were using it to decide what wallpaper to use in your own home?\": \"useful-w7\",\n",
    "    \"33. How realistic is this image?\": \"score-w8\",\n",
    "    \"34. Would find the quality of image helpful if you were using it to decide what wallpaper to use in your own home?\": \"useful-w8\",\n",
    "    \"35. How realistic is this image?\": \"score-p8\",\n",
    "    \"36. Would find the quality of image helpful if you were using it to decide what wallpaper to use in your own home?\": \"useful-p8\",\n",
    "    \"37. How realistic is this image?\": \"score-w9\",\n",
    "    \"38. Would find the quality of image helpful if you were using it to decide what wallpaper to use in your own home?\": \"useful-w9\",\n",
    "    \"39. How realistic is this image?\": \"score-p9\",\n",
    "    \"40. Would find the quality of image helpful if you were using it to decide what wallpaper to use in your own home?\": \"useful-p9\",\n",
    "    \"41. How realistic is this image?\": \"score-w10\",\n",
    "    \"42. Would find the quality of image helpful if you were using it to decide what wallpaper to use in your own home?\": \"useful-w10\",\n",
    "    \"43. How realistic is this image?\": \"score-p10\",\n",
    "    \"44. Would find the quality of image helpful if you were using it to decide what wallpaper to use in your own home?\": \"useful-p10\"}\n",
    "    )"
   ]
  },
  {
   "cell_type": "code",
   "execution_count": 27,
   "metadata": {},
   "outputs": [],
   "source": [
    "df_pipeline_scores = df[[\"score-p1\", \"score-p2\", \"score-p3\", \"score-p4\", \"score-p5\", \"score-p6\", \"score-p7\", \"score-p8\", \"score-p9\", \"score-p10\"]]\n",
    "df_pipeline_useful = df[[\"useful-p1\", \"useful-p2\", \"useful-p3\", \"useful-p4\", \"useful-p5\", \"useful-p6\", \"useful-p7\", \"useful-p8\", \"useful-p9\", \"useful-p10\"]]\n",
    "df_wizart_scores = df[[\"score-w1\", \"score-w2\", \"score-w3\", \"score-w4\", \"score-w5\", \"score-w6\", \"score-w7\", \"score-w8\", \"score-w9\", \"score-w10\"]]\n",
    "df_wizart_useful = df[[\"useful-w1\", \"useful-w2\", \"useful-w3\", \"useful-w4\", \"useful-w5\", \"useful-w6\", \"useful-w7\", \"useful-w8\", \"useful-w9\", \"useful-w10\"]]"
   ]
  },
  {
   "cell_type": "markdown",
   "metadata": {},
   "source": [
    "## Scores"
   ]
  },
  {
   "cell_type": "code",
   "execution_count": 37,
   "metadata": {},
   "outputs": [
    {
     "name": "stdout",
     "output_type": "stream",
     "text": [
      "[3.2, 2.466666666666667, 2.533333333333333, 3.1333333333333333, 1.8666666666666667, 2.466666666666667, 2.466666666666667, 2.8666666666666667, 3.533333333333333, 3.0]\n",
      "[1.424279266355945, 1.245945806357946, 1.1872336794093274, 1.245945806357946, 0.9154754164341269, 1.3020130933435712, 1.1254628677422756, 1.1254628677422756, 0.833809387832792, 0.9258200997725514]\n",
      "[2.8, 3.6666666666666665, 4.2, 3.6666666666666665, 2.533333333333333, 3.533333333333333, 3.6666666666666665, 3.4, 3.8, 1.8666666666666667]\n",
      "[1.3732131246511905, 1.1126972805283737, 1.082325538564332, 1.3451854182690983, 1.4074631010979937, 1.1872336794093274, 1.1751393027860062, 1.1832159566199232, 1.2649110640673518, 1.1872336794093272]\n"
     ]
    }
   ],
   "source": [
    "# Get means and sd for each image\n",
    "p_mean_list = []\n",
    "w_mean_list = []\n",
    "p_sd_list = []\n",
    "w_sd_list = []\n",
    "\n",
    "for i in range(10):\n",
    "    p_mean_list.append(df_pipeline_scores.loc[:, f'score-p{i+1}'].mean())\n",
    "    w_mean_list.append(df_wizart_scores.loc[:, f'score-w{i+1}'].mean())\n",
    "    p_sd_list.append(df_pipeline_scores.loc[:, f'score-p{i+1}'].std())\n",
    "    w_sd_list.append(df_wizart_scores.loc[:, f'score-w{i+1}'].std())\n",
    "\n",
    "print(p_mean_list)\n",
    "print(p_sd_list)\n",
    "print(w_mean_list)\n",
    "print(w_sd_list)"
   ]
  },
  {
   "cell_type": "code",
   "execution_count": 42,
   "metadata": {},
   "outputs": [
    {
     "name": "stdout",
     "output_type": "stream",
     "text": [
      "2\n",
      "8\n"
     ]
    }
   ],
   "source": [
    "# How many does pipeline have a better average in?\n",
    "count_p, count_w = 0, 0\n",
    "\n",
    "for i in range(10):\n",
    "    if p_mean_list[i] > w_mean_list[i]:\n",
    "        count_p += 1\n",
    "    else:\n",
    "        count_w += 1\n",
    "\n",
    "print(count_p)\n",
    "print(count_w)"
   ]
  },
  {
   "cell_type": "code",
   "execution_count": 54,
   "metadata": {},
   "outputs": [
    {
     "name": "stdout",
     "output_type": "stream",
     "text": [
      "[0.40000000000000036, 1.1333333333333333]\n",
      "[1.1999999999999997, 1.666666666666667, 0.5333333333333332, 0.6666666666666665, 1.0666666666666664, 1.1999999999999997, 0.5333333333333332, 0.2666666666666666]\n"
     ]
    }
   ],
   "source": [
    "# Where wizart has better mean score, how much better is it?\n",
    "p_better_list, w_better_list = [], []\n",
    "\n",
    "for i in range(10):\n",
    "    if p_mean_list[i] > w_mean_list[i]:\n",
    "        p_better_list.append(p_mean_list[i] - w_mean_list[i])\n",
    "    if w_mean_list[i] > p_mean_list[i]:\n",
    "        w_better_list.append(w_mean_list[i] - p_mean_list[i])\n",
    "\n",
    "print(p_better_list)\n",
    "print(w_better_list)"
   ]
  },
  {
   "cell_type": "code",
   "execution_count": 38,
   "metadata": {},
   "outputs": [
    {
     "name": "stdout",
     "output_type": "stream",
     "text": [
      "2.7533333333333334\n",
      "1.2036670294036387\n",
      "3.3133333333333335\n",
      "1.3715061366155272\n"
     ]
    }
   ],
   "source": [
    "# Get overall mean score\n",
    "p_overall_mean = df_pipeline_scores.stack().dropna().mean()\n",
    "p_overall_sd = df_pipeline_scores.stack().dropna().std()\n",
    "w_overall_mean = df_wizart_scores.stack().dropna().mean()\n",
    "w_overall_sd = df_wizart_scores.stack().dropna().std()\n",
    "\n",
    "print(p_overall_mean)\n",
    "print(p_overall_sd)\n",
    "print(w_overall_mean)\n",
    "print(w_overall_sd)"
   ]
  },
  {
   "cell_type": "markdown",
   "metadata": {},
   "source": [
    "## Usefulness"
   ]
  },
  {
   "cell_type": "code",
   "execution_count": 64,
   "metadata": {},
   "outputs": [
    {
     "name": "stdout",
     "output_type": "stream",
     "text": [
      "[80.0, 26.666666666666668, 33.33333333333333, 66.66666666666666, 20.0, 33.33333333333333, 26.666666666666668, 33.33333333333333, 66.66666666666666, 40.0]\n",
      "[60.0, 80.0, 93.33333333333333, 80.0, 46.666666666666664, 66.66666666666666, 73.33333333333333, 80.0, 80.0, 20.0]\n"
     ]
    }
   ],
   "source": [
    "p_useful_perc_list1 = []\n",
    "w_useful_perc_list1 = []\n",
    "\n",
    "for i in range(10):\n",
    "    p_useful_perc_list1.append((df_pipeline_useful[f'useful-p{i+1}'].value_counts()['Yes'] / 15) * 100)\n",
    "    w_useful_perc_list1.append((df_wizart_useful[f'useful-w{i+1}'].value_counts()['Yes'] / 15) * 100)\n",
    "\n",
    "print(p_useful_perc_list1)\n",
    "print(w_useful_perc_list1)"
   ]
  },
  {
   "cell_type": "code",
   "execution_count": 65,
   "metadata": {},
   "outputs": [
    {
     "name": "stdout",
     "output_type": "stream",
     "text": [
      "2\n",
      "8\n"
     ]
    }
   ],
   "source": [
    "# How many images did a higher percentage of people think the pipeline was useful in?\n",
    "count_p, count_w = 0, 0\n",
    "\n",
    "for i in range(10):\n",
    "    if p_useful_perc_list1[i] > w_useful_perc_list1[i]:\n",
    "        count_p += 1\n",
    "    else:\n",
    "        count_w += 1\n",
    "\n",
    "print(count_p)\n",
    "print(count_w)"
   ]
  },
  {
   "cell_type": "code",
   "execution_count": 66,
   "metadata": {},
   "outputs": [
    {
     "name": "stdout",
     "output_type": "stream",
     "text": [
      "[80.0, 46.666666666666664, 60.0, 73.33333333333333, 46.666666666666664, 66.66666666666666, 86.66666666666667, 60.0, 93.33333333333333, 73.33333333333333]\n",
      "[80.0, 93.33333333333333, 100.0, 80.0, 73.33333333333333, 73.33333333333333, 86.66666666666667, 93.33333333333333, 100.0, 33.33333333333333]\n"
     ]
    }
   ],
   "source": [
    "p_useful_perc_list2 = []\n",
    "w_useful_perc_list2 = []\n",
    "\n",
    "for i in range(10):\n",
    "    try:\n",
    "        p_useful_perc_list2.append(((df_pipeline_useful[f'useful-p{i+1}'].value_counts()['Yes']+df_pipeline_useful[f'useful-p{i+1}'].value_counts()['Maybe']) / 15) * 100)\n",
    "    except:\n",
    "        p_useful_perc_list2.append((df_pipeline_useful[f'useful-p{i+1}'].value_counts()['Yes'] / 15) * 100)\n",
    "\n",
    "    try:\n",
    "        w_useful_perc_list2.append(((df_wizart_useful[f'useful-w{i+1}'].value_counts()['Yes']+df_wizart_useful[f'useful-w{i+1}'].value_counts()['Maybe']) / 15) * 100)\n",
    "    except:\n",
    "        w_useful_perc_list2.append((df_wizart_useful[f'useful-w{i+1}'].value_counts()['Yes'] / 15) * 100)\n",
    "\n",
    "\n",
    "print(p_useful_perc_list2)\n",
    "print(w_useful_perc_list2)"
   ]
  },
  {
   "cell_type": "code",
   "execution_count": 69,
   "metadata": {},
   "outputs": [
    {
     "name": "stdout",
     "output_type": "stream",
     "text": [
      "1\n",
      "9\n"
     ]
    }
   ],
   "source": [
    "# How many images did a higher percentage of people think the pipeline was useful in?\n",
    "count_p, count_w = 0, 0\n",
    "\n",
    "for i in range(10):\n",
    "    if p_useful_perc_list2[i] > w_useful_perc_list2[i]:\n",
    "        count_p += 1\n",
    "    else:\n",
    "        count_w += 1\n",
    "\n",
    "print(count_p)\n",
    "print(count_w)"
   ]
  },
  {
   "cell_type": "code",
   "execution_count": 53,
   "metadata": {},
   "outputs": [
    {
     "name": "stdout",
     "output_type": "stream",
     "text": [
      "[0, 20.0, 26.666666666666668, 6.666666666666667, 26.666666666666668, 33.33333333333333, 60.0, 26.666666666666668, 26.666666666666668, 33.33333333333333]\n",
      "[20.0, 13.333333333333334, 6.666666666666667, 0, 26.666666666666668, 6.666666666666667, 13.333333333333334, 13.333333333333334, 20.0, 13.333333333333334]\n"
     ]
    }
   ],
   "source": [
    "p_maybe_useful_perc_list = []\n",
    "w_maybe_useful_perc_list = []\n",
    "\n",
    "for i in range(10):\n",
    "    try:\n",
    "        p_maybe_useful_perc_list.append((df_pipeline_useful[f'useful-p{i+1}'].value_counts()['Maybe'] / 15) * 100)\n",
    "    except:\n",
    "        p_maybe_useful_perc_list.append(0)\n",
    "\n",
    "    try:\n",
    "        w_maybe_useful_perc_list.append((df_wizart_useful[f'useful-w{i+1}'].value_counts()['Maybe'] / 15) * 100)\n",
    "    except:\n",
    "        w_maybe_useful_perc_list.append(0)\n",
    "\n",
    "print(p_maybe_useful_perc_list)\n",
    "print(w_maybe_useful_perc_list)"
   ]
  },
  {
   "cell_type": "code",
   "execution_count": 50,
   "metadata": {},
   "outputs": [
    {
     "name": "stdout",
     "output_type": "stream",
     "text": [
      "[20.0, 53.333333333333336, 40.0, 26.666666666666668, 53.333333333333336, 33.33333333333333, 13.333333333333334, 40.0, 6.666666666666667, 26.666666666666668]\n",
      "[20.0, 6.666666666666667, 0, 20.0, 26.666666666666668, 26.666666666666668, 13.333333333333334, 6.666666666666667, 0, 66.66666666666666]\n"
     ]
    }
   ],
   "source": [
    "p_not_useful_perc_list = []\n",
    "w_not_useful_perc_list = []\n",
    "\n",
    "for i in range(10):\n",
    "    p_not_useful_perc_list.append((df_pipeline_useful[f'useful-p{i+1}'].value_counts()['No'] / 15) * 100)\n",
    "    try:\n",
    "        w_not_useful_perc_list.append((df_wizart_useful[f'useful-w{i+1}'].value_counts()['No'] / 15) * 100)\n",
    "    except:\n",
    "        w_not_useful_perc_list.append(0)\n",
    "\n",
    "print(p_not_useful_perc_list)\n",
    "print(w_not_useful_perc_list)"
   ]
  },
  {
   "cell_type": "code",
   "execution_count": 12,
   "metadata": {},
   "outputs": [],
   "source": [
    "df.to_csv(\"data-collection/user-eval-results.csv\", index=False)"
   ]
  },
  {
   "cell_type": "markdown",
   "metadata": {},
   "source": [
    "# stats"
   ]
  },
  {
   "cell_type": "code",
   "execution_count": 62,
   "metadata": {},
   "outputs": [
    {
     "name": "stdout",
     "output_type": "stream",
     "text": [
      "score-1 13.5 0.27990160412230547\n",
      "score-2 10.0 0.009937802142708837\n",
      "score-3 2.0 0.001946580188807723\n",
      "score-4 16.5 0.10880943004054568\n",
      "score-5 20.0 0.23411133623674507\n",
      "score-6 3.5 0.007292038706980377\n",
      "score-7 0.0 0.0027550771035609193\n",
      "score-8 19.5 0.1122404934567017\n",
      "score-9 18.0 0.3142753351370735\n",
      "score-10 9.0 0.005054561753793258\n"
     ]
    },
    {
     "name": "stderr",
     "output_type": "stream",
     "text": [
      "c:\\Users\\Kim\\anaconda3\\envs\\pipeline1\\lib\\site-packages\\scipy\\stats\\morestats.py:3141: UserWarning: Exact p-value calculation does not work if there are ties. Switching to normal approximation.\n",
      "  warnings.warn(\"Exact p-value calculation does not work if there are \"\n",
      "c:\\Users\\Kim\\anaconda3\\envs\\pipeline1\\lib\\site-packages\\scipy\\stats\\morestats.py:3155: UserWarning: Sample size too small for normal approximation.\n",
      "  warnings.warn(\"Sample size too small for normal approximation.\")\n"
     ]
    }
   ],
   "source": [
    "for i in range(10):\n",
    "    g0 = df_pipeline_scores[f'score-p{i+1}']\n",
    "    g1 = df_wizart_scores[f'score-w{i+1}']\n",
    "\n",
    "    w, p =  wilcoxon(g0, g1)\n",
    "    print(f'score-{i+1}', w, p)\n",
    "\n",
    "# any with p-value less than 0.05 are different enough distributions for the results to be statistically significant"
   ]
  },
  {
   "cell_type": "code",
   "execution_count": 67,
   "metadata": {},
   "outputs": [
    {
     "name": "stdout",
     "output_type": "stream",
     "text": [
      "7.0 0.037109375\n"
     ]
    }
   ],
   "source": [
    "w, p =  wilcoxon(p_useful_perc_list1, w_useful_perc_list1)\n",
    "print(w, p)\n",
    "\n",
    "# different enough to be statistically significant"
   ]
  },
  {
   "cell_type": "code",
   "execution_count": 68,
   "metadata": {},
   "outputs": [
    {
     "name": "stdout",
     "output_type": "stream",
     "text": [
      "6.5 0.1051719513086604\n"
     ]
    },
    {
     "name": "stderr",
     "output_type": "stream",
     "text": [
      "c:\\Users\\Kim\\anaconda3\\envs\\pipeline1\\lib\\site-packages\\scipy\\stats\\morestats.py:3141: UserWarning: Exact p-value calculation does not work if there are ties. Switching to normal approximation.\n",
      "  warnings.warn(\"Exact p-value calculation does not work if there are \"\n",
      "c:\\Users\\Kim\\anaconda3\\envs\\pipeline1\\lib\\site-packages\\scipy\\stats\\morestats.py:3155: UserWarning: Sample size too small for normal approximation.\n",
      "  warnings.warn(\"Sample size too small for normal approximation.\")\n"
     ]
    }
   ],
   "source": [
    "w, p =  wilcoxon(p_useful_perc_list2, w_useful_perc_list2)\n",
    "print(w, p)\n",
    "\n",
    "# not different enough to be statistically significant"
   ]
  }
 ],
 "metadata": {
  "kernelspec": {
   "display_name": "pipeline1",
   "language": "python",
   "name": "python3"
  },
  "language_info": {
   "codemirror_mode": {
    "name": "ipython",
    "version": 3
   },
   "file_extension": ".py",
   "mimetype": "text/x-python",
   "name": "python",
   "nbconvert_exporter": "python",
   "pygments_lexer": "ipython3",
   "version": "3.7.12"
  }
 },
 "nbformat": 4,
 "nbformat_minor": 2
}
