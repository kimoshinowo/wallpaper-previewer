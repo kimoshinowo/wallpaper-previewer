{
 "cells": [
  {
   "cell_type": "code",
   "execution_count": 1,
   "metadata": {},
   "outputs": [
    {
     "name": "stderr",
     "output_type": "stream",
     "text": [
      "c:\\Users\\Kim\\anaconda3\\envs\\pipeline1\\lib\\site-packages\\gluoncv\\__init__.py:40: UserWarning: Both `mxnet==1.7.0` and `torch==1.6.0+cpu` are installed. You might encounter increased GPU memory footprint if both framework are used at the same time.\n",
      "  warnings.warn(f'Both `mxnet=={mx.__version__}` and `torch=={torch.__version__}` are installed. '\n"
     ]
    }
   ],
   "source": [
    "# Segmentation\n",
    "import numpy as np\n",
    "\n",
    "import mxnet as mx\n",
    "from mxnet import image as mimage\n",
    "from mxnet.gluon.data.vision import transforms\n",
    "\n",
    "import gluoncv\n",
    "from gluoncv.utils.viz import get_color_pallete\n",
    "from gluoncv.data.transforms.presets.segmentation import test_transform\n",
    "\n",
    "from matplotlib import pyplot as plt\n",
    "import matplotlib.image as mpimg\n",
    "\n",
    "import PIL.Image as pil\n",
    "\n",
    "# using cpu\n",
    "ctx = mx.cpu(0)"
   ]
  },
  {
   "cell_type": "code",
   "execution_count": 2,
   "metadata": {},
   "outputs": [
    {
     "name": "stdout",
     "output_type": "stream",
     "text": [
      "self.crop_size 480\n",
      "Downloading C:\\Users\\Kim/.mxnet/models\\deeplab_resnest269_ade-d45b33de.zip from https://apache-mxnet.s3-accelerate.dualstack.amazonaws.com/gluon/models/deeplab_resnest269_ade-d45b33de.zip...\n"
     ]
    },
    {
     "name": "stderr",
     "output_type": "stream",
     "text": [
      "499213KB [01:36, 5161.43KB/s]                            \n"
     ]
    }
   ],
   "source": [
    "psp_resnet101_ade = gluoncv.model_zoo.get_psp_resnet101_ade(pretrained=True)\n",
    "deeplab_resnet101_ade = gluoncv.model_zoo.get_deeplab_resnet101_ade(pretrained=True)\n",
    "deeplab_resnest269_ade = gluoncv.model_zoo.get_deeplab_resnest269_ade(pretrained=True)"
   ]
  },
  {
   "cell_type": "code",
   "execution_count": 5,
   "metadata": {},
   "outputs": [],
   "source": [
    "import os\n",
    "\n",
    "deeplab_resnest269_ade = gluoncv.model_zoo.get_deeplab_resnest269_ade(pretrained=True)\n",
    "\n",
    "# Loop over all images in input folder\n",
    "folder_dir = \"C:/Users/Kim/Documents/Bath/Dissertation/Code/images/inputs/rooms/real\"\n",
    "\n",
    "for image in os.listdir(folder_dir):\n",
    "    filename = \"images/inputs/rooms/real/\" + image\n",
    "    img = mimage.imread(filename)\n",
    "    img_t = test_transform(img, ctx)\n",
    "    output = deeplab_resnest269_ade.predict(img_t)\n",
    "    predict = mx.nd.squeeze(mx.nd.argmax(output, 1)).asnumpy()\n",
    "    mask = get_color_pallete(predict, 'ade20k')\n",
    "    mask.save('images/outputs/final-outputs/seg/deeplab_resnest269_ade/' + image + '.png')"
   ]
  },
  {
   "cell_type": "code",
   "execution_count": null,
   "metadata": {},
   "outputs": [],
   "source": [
    "import os\n",
    "\n",
    "deeplab_resnest101_ade = gluoncv.model_zoo.get_deeplab_resnest101_ade(pretrained=True)\n",
    "\n",
    "# Loop over all images in input folder\n",
    "folder_dir = \"C:/Users/Kim/Documents/Bath/Dissertation/Code/images/inputs/rooms/real\"\n",
    "\n",
    "for image in os.listdir(folder_dir):\n",
    "    filename = \"images/inputs/rooms/real/\" + image\n",
    "    img = mimage.imread(filename)\n",
    "    img_t = test_transform(img, ctx)\n",
    "    output = deeplab_resnest101_ade.predict(img_t)\n",
    "    predict = mx.nd.squeeze(mx.nd.argmax(output, 1)).asnumpy()\n",
    "    mask = get_color_pallete(predict, 'ade20k')\n",
    "    mask.save('images/outputs/final-outputs/seg/deeplab_resnest101_ade/' + image + '.png')"
   ]
  },
  {
   "cell_type": "code",
   "execution_count": 2,
   "metadata": {},
   "outputs": [],
   "source": [
    "import os\n",
    "\n",
    "deeplab_resnet101_ade = gluoncv.model_zoo.get_deeplab_resnet101_ade(pretrained=True)\n",
    "\n",
    "# Loop over all images in input folder\n",
    "folder_dir = \"C:/Users/Kim/Documents/Bath/Dissertation/Code/images/inputs/rooms/real\"\n",
    "\n",
    "for image in os.listdir(folder_dir):\n",
    "    filename = \"images/inputs/rooms/real/\" + image\n",
    "    img = mimage.imread(filename)\n",
    "    img_t = test_transform(img, ctx)\n",
    "    output = deeplab_resnet101_ade.predict(img_t)\n",
    "    predict = mx.nd.squeeze(mx.nd.argmax(output, 1)).asnumpy()\n",
    "    mask = get_color_pallete(predict, 'ade20k')\n",
    "    mask.save('images/outputs/final-outputs/seg/deeplab_resnet101_ade/' + image + '.png')"
   ]
  },
  {
   "cell_type": "code",
   "execution_count": 3,
   "metadata": {},
   "outputs": [
    {
     "name": "stdout",
     "output_type": "stream",
     "text": [
      "self.crop_size 480\n"
     ]
    }
   ],
   "source": [
    "import os\n",
    "\n",
    "psp_resnet101_ade = gluoncv.model_zoo.get_psp_resnet101_ade(pretrained=True)\n",
    "\n",
    "# Loop over all images in input folder\n",
    "folder_dir = \"C:/Users/Kim/Documents/Bath/Dissertation/Code/images/inputs/rooms/real\"\n",
    "\n",
    "for image in os.listdir(folder_dir):\n",
    "    filename = \"images/inputs/rooms/real/\" + image\n",
    "    img = mimage.imread(filename)\n",
    "    img_t = test_transform(img, ctx)\n",
    "    output = psp_resnet101_ade.predict(img_t)\n",
    "    predict = mx.nd.squeeze(mx.nd.argmax(output, 1)).asnumpy()\n",
    "    mask = get_color_pallete(predict, 'ade20k')\n",
    "    mask.save('images/outputs/final-outputs/seg/psp_resnet101_ade/' + image + '.png')"
   ]
  }
 ],
 "metadata": {
  "kernelspec": {
   "display_name": "pipeline1",
   "language": "python",
   "name": "python3"
  },
  "language_info": {
   "codemirror_mode": {
    "name": "ipython",
    "version": 3
   },
   "file_extension": ".py",
   "mimetype": "text/x-python",
   "name": "python",
   "nbconvert_exporter": "python",
   "pygments_lexer": "ipython3",
   "version": "3.7.12"
  }
 },
 "nbformat": 4,
 "nbformat_minor": 2
}
