{
 "cells": [
  {
   "cell_type": "code",
   "execution_count": 47,
   "metadata": {},
   "outputs": [],
   "source": [
    "# Data Manipulation\n",
    "import numpy as np\n",
    "import pandas as pd\n",
    "\n",
    "# Visualisation\n",
    "import matplotlib.pyplot as plt\n",
    "import seaborn as sns\n",
    "\n",
    "# Analysis\n",
    "from sklearn.metrics import mean_absolute_error\n",
    "import scipy as sp\n",
    "import statsmodels as sm\n",
    "from scipy.stats import wilcoxon, mannwhitneyu"
   ]
  },
  {
   "cell_type": "code",
   "execution_count": 2,
   "metadata": {},
   "outputs": [],
   "source": [
    "df_tf_input = pd.read_csv(\"data-collection/outputs/performance-data-true-false.csv\")\n",
    "df_ft_input = pd.read_csv(\"data-collection/outputs/performance-data-false-true.csv\")\n",
    "df_ff_input = pd.read_csv(\"data-collection/outputs/performance-data-false-false.csv\")\n",
    "\n",
    "df_gt_input = pd.read_csv(\"data-collection/groundtruths/target-data.csv\")"
   ]
  },
  {
   "cell_type": "markdown",
   "metadata": {},
   "source": [
    "### Compare number of corners found"
   ]
  },
  {
   "cell_type": "code",
   "execution_count": 3,
   "metadata": {},
   "outputs": [
    {
     "name": "stderr",
     "output_type": "stream",
     "text": [
      "c:\\Users\\Kim\\anaconda3\\envs\\analysis\\lib\\site-packages\\ipykernel_launcher.py:11: SettingWithCopyWarning: \n",
      "A value is trying to be set on a copy of a slice from a DataFrame.\n",
      "Try using .loc[row_indexer,col_indexer] = value instead\n",
      "\n",
      "See the caveats in the documentation: https://pandas.pydata.org/pandas-docs/stable/user_guide/indexing.html#returning-a-view-versus-a-copy\n",
      "  # This is added back by InteractiveShellApp.init_path()\n"
     ]
    }
   ],
   "source": [
    "# Add column to each DF saying how many corners are not Nan\n",
    "df_tf = df_tf_input[[\"filename\", \"corner-1\", \"corner-2\", \"corner-3\", \"corner-4\", \"corner-5\"]]\n",
    "df_ff = df_ff_input[[\"filename\", \"corner-1\", \"corner-2\", \"corner-3\", \"corner-4\", \"corner-5\"]]\n",
    "df_gt = df_gt_input[[\"filename\", \"corner-1\", \"corner-2\", \"corner-3\", \"corner-4\", \"corner-5\"]]\n",
    "\n",
    "df_tf = df_tf.replace('FAILED', np.nan, regex=True)\n",
    "df_ff = df_ff.replace('FAILED', np.nan, regex=True)\n",
    "\n",
    "df_tf[\"tf-num-corners\"] = df_tf.count(axis=1)-1\n",
    "df_ff[\"ff-num-corners\"] = df_ff.count(axis=1)-1\n",
    "df_gt[\"gt-num-corners\"] = df_gt.count(axis=1)-1"
   ]
  },
  {
   "cell_type": "code",
   "execution_count": 4,
   "metadata": {},
   "outputs": [],
   "source": [
    "# Remove all other columns but name and corner num\n",
    "df_tf = df_tf[[\"filename\", \"tf-num-corners\"]]\n",
    "df_ff = df_ff[[\"filename\", \"ff-num-corners\"]]\n",
    "df_gt = df_gt[[\"filename\", \"gt-num-corners\"]]"
   ]
  },
  {
   "cell_type": "code",
   "execution_count": 5,
   "metadata": {},
   "outputs": [],
   "source": [
    "# Merge on filename\n",
    "corner_nums = df_gt.merge(df_tf, on=\"filename\").merge(df_ff, on=\"filename\")"
   ]
  },
  {
   "cell_type": "code",
   "execution_count": 6,
   "metadata": {},
   "outputs": [],
   "source": [
    "# Get MAE compared to GTs\n",
    "error_tf = mean_absolute_error(corner_nums[\"gt-num-corners\"], corner_nums[\"tf-num-corners\"])\n",
    "error_ff = mean_absolute_error(corner_nums[\"gt-num-corners\"], corner_nums[\"ff-num-corners\"])"
   ]
  },
  {
   "cell_type": "code",
   "execution_count": 7,
   "metadata": {},
   "outputs": [
    {
     "name": "stdout",
     "output_type": "stream",
     "text": [
      "0.8309859154929577\n",
      "1.1549295774647887\n"
     ]
    }
   ],
   "source": [
    "print(error_tf)\n",
    "print(error_ff)"
   ]
  },
  {
   "cell_type": "code",
   "execution_count": 8,
   "metadata": {},
   "outputs": [
    {
     "name": "stdout",
     "output_type": "stream",
     "text": [
      "WilcoxonResult(statistic=48.0, pvalue=0.0002451354174095733)\n"
     ]
    }
   ],
   "source": [
    "tf_error_dist = np.abs(corner_nums[\"gt-num-corners\"]-corner_nums[\"tf-num-corners\"])\n",
    "ff_error_dist = np.abs(corner_nums[\"gt-num-corners\"]-corner_nums[\"ff-num-corners\"])\n",
    "\n",
    "res = wilcoxon(tf_error_dist, ff_error_dist)\n",
    "\n",
    "print(res)"
   ]
  },
  {
   "cell_type": "markdown",
   "metadata": {},
   "source": [
    "### Compare error of corner points"
   ]
  },
  {
   "cell_type": "code",
   "execution_count": 74,
   "metadata": {},
   "outputs": [],
   "source": [
    "df_tf = df_tf_input[[\"filename\", \"corner-1\", \"corner-2\", \"corner-3\", \"corner-4\", \"corner-5\"]]\n",
    "df_ff = df_ff_input[[\"filename\", \"corner-1\", \"corner-2\", \"corner-3\", \"corner-4\", \"corner-5\"]]\n",
    "df_gt = df_gt_input[[\"filename\", \"corner-1\", \"corner-2\", \"corner-3\", \"corner-4\", \"corner-5\"]]\n",
    "\n",
    "df_tf = df_tf.replace('FAILED', np.nan, regex=True)\n",
    "df_ff = df_ff.replace('FAILED', np.nan, regex=True)"
   ]
  },
  {
   "cell_type": "code",
   "execution_count": null,
   "metadata": {},
   "outputs": [],
   "source": [
    "# Compare each corner point to each ground truth corner point and save the error of whichever is closest"
   ]
  },
  {
   "cell_type": "markdown",
   "metadata": {},
   "source": [
    "### Error of corner-floor intersection points"
   ]
  },
  {
   "cell_type": "code",
   "execution_count": 9,
   "metadata": {},
   "outputs": [],
   "source": [
    "df_ft = df_ft_input[[\"filename\", \"co-fl-in-1\", \"co-fl-in-2\", \"co-fl-in-3\", \"co-fl-in-4\", \"co-fl-in-5\"]]\n",
    "df_gt = df_gt_input[[\"filename\", \"co-fl-in-1\", \"co-fl-in-2\", \"co-fl-in-3\", \"co-fl-in-4\", \"co-fl-in-5\"]]\n",
    "\n",
    "df_ft = df_ft.replace('FAILED', np.nan, regex=True)"
   ]
  },
  {
   "cell_type": "code",
   "execution_count": null,
   "metadata": {},
   "outputs": [],
   "source": [
    "# calculate error\n",
    "\n",
    "# 30 pixels"
   ]
  },
  {
   "cell_type": "markdown",
   "metadata": {},
   "source": [
    "### Compare wall coverage percentage"
   ]
  },
  {
   "cell_type": "code",
   "execution_count": 66,
   "metadata": {},
   "outputs": [],
   "source": [
    "df_tf = df_tf_input[[\"filename\", \"wall-coverage-perc\"]]\n",
    "df_ft = df_ft_input[[\"filename\", \"wall-coverage-perc\"]]\n",
    "df_ff = df_ff_input[[\"filename\", \"wall-coverage-perc\"]]\n",
    "\n",
    "df_tf = df_tf.replace('FAILED', 0, regex=True)\n",
    "df_ft = df_ft.replace('FAILED', 0, regex=True)\n",
    "df_ff = df_ff.replace('FAILED', 0, regex=True)"
   ]
  },
  {
   "cell_type": "code",
   "execution_count": 67,
   "metadata": {},
   "outputs": [],
   "source": [
    "df_tf[\"wall-coverage-perc\"] = df_tf[\"wall-coverage-perc\"].astype(float)\n",
    "df_ft[\"wall-coverage-perc\"] = df_ft[\"wall-coverage-perc\"].astype(float)\n",
    "df_ff[\"wall-coverage-perc\"] = df_ff[\"wall-coverage-perc\"].astype(float)"
   ]
  },
  {
   "cell_type": "code",
   "execution_count": 68,
   "metadata": {},
   "outputs": [],
   "source": [
    "# discount those where plain wall mask is used by removing 1s\n",
    "df_tf = df_tf.drop(df_tf[df_tf['wall-coverage-perc'] == float(1)].index)\n",
    "df_ft = df_ft.drop(df_ft[df_ft['wall-coverage-perc'] == float(1)].index)\n",
    "df_ff = df_ff.drop(df_ff[df_ff['wall-coverage-perc'] == float(1)].index)"
   ]
  },
  {
   "cell_type": "code",
   "execution_count": 69,
   "metadata": {},
   "outputs": [
    {
     "name": "stdout",
     "output_type": "stream",
     "text": [
      "tf_mean = 0.9137844023469459\n",
      "ft_mean = 0.8236358285052049\n",
      "ff_mean = 0.9166521378509982\n"
     ]
    }
   ],
   "source": [
    "tf_mean = df_tf[[\"wall-coverage-perc\"]].mean(numeric_only=True)[0]\n",
    "ft_mean = df_ft[[\"wall-coverage-perc\"]].mean(numeric_only=True)[0]\n",
    "ff_mean = df_ff[[\"wall-coverage-perc\"]].mean(numeric_only=True)[0]\n",
    "\n",
    "print(f\"tf_mean = {tf_mean}\")\n",
    "print(f\"ft_mean = {ft_mean}\")\n",
    "print(f\"ff_mean = {ff_mean}\")"
   ]
  },
  {
   "cell_type": "code",
   "execution_count": 73,
   "metadata": {},
   "outputs": [
    {
     "name": "stdout",
     "output_type": "stream",
     "text": [
      "res_1 = MannwhitneyuResult(statistic=1854.5, pvalue=0.4767893960305616)\n",
      "res_2 = MannwhitneyuResult(statistic=1550.0, pvalue=0.5517142360306657)\n",
      "res_3 = MannwhitneyuResult(statistic=1173.5, pvalue=0.248407364344584)\n"
     ]
    }
   ],
   "source": [
    "res_1 = mannwhitneyu(df_tf[\"wall-coverage-perc\"], df_ft[\"wall-coverage-perc\"])\n",
    "res_2 = mannwhitneyu(df_tf[\"wall-coverage-perc\"], df_ff[\"wall-coverage-perc\"])\n",
    "res_3 = mannwhitneyu(df_ft[\"wall-coverage-perc\"], df_ff[\"wall-coverage-perc\"])\n",
    "\n",
    "print(f\"res_1 = {res_1}\")\n",
    "print(f\"res_2 = {res_2}\")\n",
    "print(f\"res_3 = {res_3}\")"
   ]
  }
 ],
 "metadata": {
  "kernelspec": {
   "display_name": "pipeline1",
   "language": "python",
   "name": "python3"
  },
  "language_info": {
   "codemirror_mode": {
    "name": "ipython",
    "version": 3
   },
   "file_extension": ".py",
   "mimetype": "text/x-python",
   "name": "python",
   "nbconvert_exporter": "python",
   "pygments_lexer": "ipython3",
   "version": "3.7.16"
  }
 },
 "nbformat": 4,
 "nbformat_minor": 2
}
