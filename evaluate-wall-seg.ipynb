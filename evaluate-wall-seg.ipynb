{
 "cells": [
  {
   "cell_type": "code",
   "execution_count": 1,
   "metadata": {},
   "outputs": [],
   "source": [
    "import numpy as np\n",
    "import cv2\n",
    "from os import listdir\n",
    "from matplotlib import pyplot as plt"
   ]
  },
  {
   "cell_type": "code",
   "execution_count": 2,
   "metadata": {},
   "outputs": [
    {
     "name": "stderr",
     "output_type": "stream",
     "text": [
      "c:\\Users\\Kim\\anaconda3\\envs\\pipeline1\\lib\\site-packages\\gluoncv\\__init__.py:40: UserWarning: Both `mxnet==1.7.0` and `torch==1.6.0+cpu` are installed. You might encounter increased GPU memory footprint if both framework are used at the same time.\n",
      "  warnings.warn(f'Both `mxnet=={mx.__version__}` and `torch=={torch.__version__}` are installed. '\n"
     ]
    }
   ],
   "source": [
    "# Import custom methods\n",
    "import general_methods\n",
    "import semantic_segmentation"
   ]
  },
  {
   "cell_type": "code",
   "execution_count": 3,
   "metadata": {},
   "outputs": [],
   "source": [
    "# Get pre-trained models\n",
    "seg_model = semantic_segmentation.get_pretrained_model()"
   ]
  },
  {
   "cell_type": "code",
   "execution_count": 4,
   "metadata": {},
   "outputs": [],
   "source": [
    "def wall_segmentation(filename):\n",
    "    input_pil = general_methods.import_and_resize(filename)\n",
    "    input_img = general_methods.import_mx_image(filename)\n",
    "    input_cv2 = general_methods.import_cv2_image(filename)\n",
    "    height = input_cv2.shape[0]\n",
    "    width = input_cv2.shape[1]\n",
    "    size = (width, height)\n",
    "\n",
    "    # Segmentation\n",
    "    mmask = semantic_segmentation.get_segementation(input_img, seg_model)\n",
    "    labels = general_methods.get_labels_string(mmask, mmask.shape[0])\n",
    "    walls = general_methods.find_colour_indices(labels, \"0.47058824,0.47058824,0.47058824,1.0\")\n",
    "    black = np.zeros((height, width, 3))\n",
    "    segmented_input = semantic_segmentation.remove_inds(black, [walls], [120, 120, 120])\n",
    "\n",
    "    return segmented_input"
   ]
  },
  {
   "cell_type": "code",
   "execution_count": 5,
   "metadata": {},
   "outputs": [],
   "source": [
    "# Loop over all images in input folder\n",
    "folder_dir = \"images/inputs/rooms/seg-test-set\"\n",
    " \n",
    "for image in listdir(folder_dir):\n",
    "    filename = \"images/inputs/rooms/seg-test-set/\" + image\n",
    "    wall_seg = wall_segmentation(filename)\n",
    "    cv2.imwrite(\"images/outputs/segmentation/\" + image, wall_seg)"
   ]
  }
 ],
 "metadata": {
  "kernelspec": {
   "display_name": "pipeline1",
   "language": "python",
   "name": "python3"
  },
  "language_info": {
   "codemirror_mode": {
    "name": "ipython",
    "version": 3
   },
   "file_extension": ".py",
   "mimetype": "text/x-python",
   "name": "python",
   "nbconvert_exporter": "python",
   "pygments_lexer": "ipython3",
   "version": "3.7.12"
  }
 },
 "nbformat": 4,
 "nbformat_minor": 2
}
