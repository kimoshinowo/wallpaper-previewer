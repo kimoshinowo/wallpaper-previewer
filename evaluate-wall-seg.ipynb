{
 "cells": [
  {
   "cell_type": "code",
   "execution_count": 34,
   "metadata": {},
   "outputs": [],
   "source": [
    "import numpy as np\n",
    "import cv2\n",
    "from os import listdir\n",
    "from matplotlib import pyplot as plt\n",
    "import PIL.Image as pil\n",
    "import pandas as pd\n",
    "import math\n",
    "from scipy.stats import wilcoxon, shapiro "
   ]
  },
  {
   "cell_type": "code",
   "execution_count": 2,
   "metadata": {},
   "outputs": [
    {
     "name": "stderr",
     "output_type": "stream",
     "text": [
      "c:\\Users\\Kim\\anaconda3\\envs\\pipeline1\\lib\\site-packages\\gluoncv\\__init__.py:40: UserWarning: Both `mxnet==1.7.0` and `torch==1.6.0+cpu` are installed. You might encounter increased GPU memory footprint if both framework are used at the same time.\n",
      "  warnings.warn(f'Both `mxnet=={mx.__version__}` and `torch=={torch.__version__}` are installed. '\n"
     ]
    }
   ],
   "source": [
    "# Import custom methods\n",
    "import general_methods\n",
    "import semantic_segmentation"
   ]
  },
  {
   "cell_type": "markdown",
   "metadata": {},
   "source": [
    "## Image processing & results gathering"
   ]
  },
  {
   "cell_type": "code",
   "execution_count": 3,
   "metadata": {},
   "outputs": [],
   "source": [
    "# Get pre-trained models\n",
    "seg_model = semantic_segmentation.get_pretrained_model()"
   ]
  },
  {
   "cell_type": "code",
   "execution_count": 4,
   "metadata": {},
   "outputs": [],
   "source": [
    "# Method to perform segmentation and return black image with only walls in grey\n",
    "\n",
    "def wall_segmentation(filename):\n",
    "    input_pil = general_methods.import_and_resize(filename)\n",
    "    input_img = general_methods.import_mx_image(filename)\n",
    "    input_cv2 = general_methods.import_cv2_image(filename)\n",
    "    height = input_cv2.shape[0]\n",
    "    width = input_cv2.shape[1]\n",
    "    size = (width, height)\n",
    "\n",
    "    # Segmentation\n",
    "    mmask = semantic_segmentation.get_segementation(input_img, seg_model)\n",
    "    labels = general_methods.get_labels_string(mmask, mmask.shape[0])\n",
    "    walls = general_methods.find_colour_indices(labels, \"0.47058824,0.47058824,0.47058824,1.0\")\n",
    "    black = np.zeros((height, width, 3))\n",
    "    segmented_input = semantic_segmentation.remove_inds(black, [walls], [120, 120, 120])\n",
    "\n",
    "    return segmented_input"
   ]
  },
  {
   "cell_type": "code",
   "execution_count": 5,
   "metadata": {},
   "outputs": [
    {
     "name": "stdout",
     "output_type": "stream",
     "text": [
      "ADE_val_00000079.png\n",
      "ADE_val_00000085.png\n",
      "ADE_val_00000091.png\n",
      "ADE_val_00000093.png\n",
      "ADE_val_00000101.png\n",
      "ADE_val_00000141.png\n",
      "ADE_val_00000151.png\n",
      "ADE_val_00000160.png\n",
      "ADE_val_00000245.png\n",
      "ADE_val_00000303.png\n",
      "ADE_val_00000314.png\n",
      "ADE_val_00000316.png\n",
      "ADE_val_00000318.png\n",
      "ADE_val_00000420.png\n",
      "ADE_val_00000423.png\n"
     ]
    },
    {
     "ename": "KeyboardInterrupt",
     "evalue": "",
     "output_type": "error",
     "traceback": [
      "\u001b[1;31m---------------------------------------------------------------------------\u001b[0m",
      "\u001b[1;31mKeyboardInterrupt\u001b[0m                         Traceback (most recent call last)",
      "\u001b[1;32m~\\AppData\\Local\\Temp\\ipykernel_13612\\2316992065.py\u001b[0m in \u001b[0;36m<module>\u001b[1;34m\u001b[0m\n\u001b[0;32m     13\u001b[0m         \u001b[1;32mfor\u001b[0m \u001b[0mj\u001b[0m \u001b[1;32min\u001b[0m \u001b[0mrange\u001b[0m\u001b[1;33m(\u001b[0m\u001b[0mwidth\u001b[0m\u001b[1;33m)\u001b[0m\u001b[1;33m:\u001b[0m\u001b[1;33m\u001b[0m\u001b[1;33m\u001b[0m\u001b[0m\n\u001b[0;32m     14\u001b[0m             \u001b[1;32mif\u001b[0m \u001b[0mimg\u001b[0m\u001b[1;33m[\u001b[0m\u001b[0mi\u001b[0m\u001b[1;33m]\u001b[0m\u001b[1;33m[\u001b[0m\u001b[0mj\u001b[0m\u001b[1;33m]\u001b[0m\u001b[1;33m[\u001b[0m\u001b[1;36m0\u001b[0m\u001b[1;33m]\u001b[0m \u001b[1;33m==\u001b[0m \u001b[1;36m0\u001b[0m\u001b[1;33m:\u001b[0m\u001b[1;33m\u001b[0m\u001b[1;33m\u001b[0m\u001b[0m\n\u001b[1;32m---> 15\u001b[1;33m                 \u001b[0mimg\u001b[0m\u001b[1;33m[\u001b[0m\u001b[0mi\u001b[0m\u001b[1;33m]\u001b[0m\u001b[1;33m[\u001b[0m\u001b[0mj\u001b[0m\u001b[1;33m]\u001b[0m \u001b[1;33m=\u001b[0m \u001b[1;33m[\u001b[0m\u001b[1;36m0\u001b[0m\u001b[1;33m,\u001b[0m \u001b[1;36m0\u001b[0m\u001b[1;33m,\u001b[0m \u001b[1;36m0\u001b[0m\u001b[1;33m]\u001b[0m\u001b[1;33m\u001b[0m\u001b[1;33m\u001b[0m\u001b[0m\n\u001b[0m\u001b[0;32m     16\u001b[0m             \u001b[1;32mif\u001b[0m \u001b[0mimg\u001b[0m\u001b[1;33m[\u001b[0m\u001b[0mi\u001b[0m\u001b[1;33m]\u001b[0m\u001b[1;33m[\u001b[0m\u001b[0mj\u001b[0m\u001b[1;33m]\u001b[0m\u001b[1;33m[\u001b[0m\u001b[1;36m0\u001b[0m\u001b[1;33m]\u001b[0m \u001b[1;33m!=\u001b[0m \u001b[1;36m0\u001b[0m\u001b[1;33m:\u001b[0m\u001b[1;33m\u001b[0m\u001b[1;33m\u001b[0m\u001b[0m\n\u001b[0;32m     17\u001b[0m                 \u001b[0mimg\u001b[0m\u001b[1;33m[\u001b[0m\u001b[0mi\u001b[0m\u001b[1;33m]\u001b[0m\u001b[1;33m[\u001b[0m\u001b[0mj\u001b[0m\u001b[1;33m]\u001b[0m \u001b[1;33m=\u001b[0m \u001b[1;33m[\u001b[0m\u001b[1;36m120\u001b[0m\u001b[1;33m,\u001b[0m \u001b[1;36m120\u001b[0m\u001b[1;33m,\u001b[0m \u001b[1;36m120\u001b[0m\u001b[1;33m]\u001b[0m\u001b[1;33m\u001b[0m\u001b[1;33m\u001b[0m\u001b[0m\n",
      "\u001b[1;31mKeyboardInterrupt\u001b[0m: "
     ]
    }
   ],
   "source": [
    "# Change seg images so only walls are grey\n",
    "\n",
    "folder_dir = \"images/seg-images/\"\n",
    " \n",
    "for image in listdir(folder_dir):\n",
    "    filename = \"images/seg-images/\" + image\n",
    "    print(image)\n",
    "    input_cv2 = general_methods.import_cv2_image(filename)\n",
    "    img = input_cv2.copy()\n",
    "    height = input_cv2.shape[0]\n",
    "    width = input_cv2.shape[1]\n",
    "    for i in range(height):\n",
    "        for j in range(width):\n",
    "            if img[i][j][0] == 0:\n",
    "                img[i][j] = [0, 0, 0]\n",
    "            if img[i][j][0] != 0:\n",
    "                img[i][j] = [120, 120, 120]\n",
    "    \n",
    "    cv2.imwrite(\"images/seg-images-after/\" + image, img) "
   ]
  },
  {
   "cell_type": "code",
   "execution_count": null,
   "metadata": {},
   "outputs": [
    {
     "name": "stdout",
     "output_type": "stream",
     "text": [
      "ADE_val_00000079_wall_seg.png\n"
     ]
    }
   ],
   "source": [
    "for image in listdir(\"data-collection/groundtruths/segmentation/\"):\n",
    "    filename = \"data-collection/groundtruths/segmentation/\" + image\n",
    "    image_name = image[:-13]\n",
    "    print(image)\n",
    "    input_cv2 = general_methods.import_cv2_image(filename)\n",
    "    height = input_cv2.shape[0]\n",
    "    width = input_cv2.shape[1]\n",
    "\n",
    "    input_pil = pil.open(\"images/outputs/segmentation/\" + image_name + \".jpg\")\n",
    "    input_pil = input_pil.resize((width, height))\n",
    "    input_pil.save(\"images/outputs/segmentation-resized/\" + image_name + \".jpg\")\n",
    "\n",
    "    input_pil = pil.open(\"images/seg-images/\" + image_name + \".png\")\n",
    "    input_pil = input_pil.resize((width, height))\n",
    "    input_pil.save(\"images/seg-images-resized/\" + image_name + \".png\")"
   ]
  },
  {
   "cell_type": "code",
   "execution_count": null,
   "metadata": {},
   "outputs": [],
   "source": [
    "for image in listdir(\"images/outputs/segmentation/\"):\n",
    "    filename = \"images/outputs/segmentation/\" + image\n",
    "    image_name = image[:-4]\n",
    "    print(image)\n",
    "    input_cv2 = general_methods.import_cv2_image(filename)\n",
    "    height = input_cv2.shape[0]\n",
    "    width = input_cv2.shape[1]\n",
    "\n",
    "    try:\n",
    "        img1 = cv2.imread(\"images/seg-images/\" + image_name + \".png\")\n",
    "        img1 = cv2.resize(img1,(width, height),fx=0, fy=0, interpolation = cv2.INTER_NEAREST)\n",
    "        cv2.imwrite(\"images/seg-images-resized/\" + image_name + \".png\", img1)\n",
    "    except:\n",
    "        print(image_name + \" doesn't exist\")\n",
    "\n",
    "    img2 = cv2.imread(\"data-collection/groundtruths/segmentation/\" + image_name + \"_wall_seg.png\")\n",
    "    img2 = cv2.resize(img2,(width, height),fx=0, fy=0, interpolation = cv2.INTER_NEAREST)\n",
    "    cv2.imwrite(\"data-collection/groundtruths/segmentation-resized/\" + image_name + \"_wall_seg.png\", img2)"
   ]
  },
  {
   "cell_type": "markdown",
   "metadata": {},
   "source": [
    "## Intersection over Union"
   ]
  },
  {
   "cell_type": "code",
   "execution_count": null,
   "metadata": {},
   "outputs": [],
   "source": [
    "mine = general_methods.import_cv2_image(\"images/outputs/segmentation/ADE_val_00000079.jpg\")\n",
    "wiz = general_methods.import_cv2_image(\"images/seg-images-after/ADE_val_00000079.png\")\n",
    "gt = general_methods.import_cv2_image(\"data-collection/groundtruths/segmentation-resized/ADE_val_00000079_wall_seg.png\")"
   ]
  },
  {
   "cell_type": "code",
   "execution_count": 6,
   "metadata": {},
   "outputs": [],
   "source": [
    "def get_iuo(image_1, image_2):\n",
    "    # https://towardsdatascience.com/intersection-over-union-iou-calculation-for-evaluating-an-image-segmentation-model-8b22e2e84686\n",
    "    intersection = np.logical_and(image_1, image_2)\n",
    "    union = np.logical_or(image_1, image_2)\n",
    "    iou = np.sum(intersection) / np.sum(union)\n",
    "    return iou"
   ]
  },
  {
   "cell_type": "code",
   "execution_count": 7,
   "metadata": {},
   "outputs": [],
   "source": [
    "df = pd.DataFrame(data=[], columns=[\"Image_name\", \"Pipeline_GT_IOU\", \"Wizart_GT_IOU\"])"
   ]
  },
  {
   "cell_type": "code",
   "execution_count": 8,
   "metadata": {},
   "outputs": [],
   "source": [
    "for image in listdir(\"images/outputs/segmentation/\"):\n",
    "    filename = \"images/outputs/segmentation/\" + image\n",
    "    image_name = image[:-4]\n",
    "    pl = general_methods.import_cv2_image(filename)\n",
    "    gt = general_methods.import_cv2_image(\"data-collection/groundtruths/segmentation-resized/\" + image_name + \"_wall_seg.png\")\n",
    "    pl_iou = round(get_iuo(gt, pl) * 100, 1)\n",
    "\n",
    "    try:\n",
    "        wiz = general_methods.import_cv2_image(\"images/seg-images-resized/\" + image_name + \".png\")\n",
    "        wiz_iou = round(get_iuo(gt, wiz) * 100, 1)\n",
    "    except:\n",
    "        wiz_iou = float(\"nan\")\n",
    "\n",
    "    new_data = [image_name, pl_iou, wiz_iou]\n",
    "    df.loc[len(df)] = new_data\n",
    "    \n",
    "    "
   ]
  },
  {
   "cell_type": "code",
   "execution_count": 11,
   "metadata": {},
   "outputs": [
    {
     "name": "stdout",
     "output_type": "stream",
     "text": [
      "pipeline_mean = 82.79545454545453\n",
      "pipeline_std = 10.832572640935378\n",
      "\n",
      "wizart_mean = 76.81052631578947\n",
      "wizart_std = 13.223112228700257\n"
     ]
    }
   ],
   "source": [
    "# Average wall coverage percentage for both\n",
    "pipeline_mean = df[\"Pipeline_GT_IOU\"].mean()\n",
    "wizart_mean = df[\"Wizart_GT_IOU\"].mean()\n",
    "\n",
    "# Standard deviation for both\n",
    "pipeline_std = df[\"Pipeline_GT_IOU\"].std()\n",
    "wizart_std = df[\"Wizart_GT_IOU\"].std()\n",
    "\n",
    "print(f\"pipeline_mean = {pipeline_mean}\")\n",
    "print(f\"pipeline_std = {pipeline_std}\\n\")\n",
    "print(f\"wizart_mean = {wizart_mean}\")\n",
    "print(f\"wizart_std = {wizart_std}\")"
   ]
  },
  {
   "cell_type": "code",
   "execution_count": 17,
   "metadata": {},
   "outputs": [
    {
     "data": {
      "text/plain": [
       "78.9"
      ]
     },
     "execution_count": 17,
     "metadata": {},
     "output_type": "execute_result"
    }
   ],
   "source": [
    "df.iloc[0][\"Pipeline_GT_IOU\"]"
   ]
  },
  {
   "cell_type": "code",
   "execution_count": 25,
   "metadata": {},
   "outputs": [
    {
     "name": "stdout",
     "output_type": "stream",
     "text": [
      "35\n",
      "9\n",
      "0\n"
     ]
    }
   ],
   "source": [
    "# How many was mine better in?\n",
    "pipeline_count = 0\n",
    "wizart_count = 0\n",
    "draw = 0\n",
    "\n",
    "for i in range(len(df)):\n",
    "    if (df.iloc[i][\"Pipeline_GT_IOU\"] > df.iloc[i][\"Wizart_GT_IOU\"]) or math.isnan(df.iloc[i][\"Wizart_GT_IOU\"]):\n",
    "        pipeline_count += 1\n",
    "    elif df.iloc[i][\"Pipeline_GT_IOU\"] < df.iloc[i][\"Wizart_GT_IOU\"]:\n",
    "        wizart_count += 1\n",
    "    else:\n",
    "        draw += 1\n",
    "\n",
    "print(pipeline_count)\n",
    "print(wizart_count)\n",
    "print(draw)"
   ]
  },
  {
   "cell_type": "code",
   "execution_count": 42,
   "metadata": {},
   "outputs": [],
   "source": [
    "# Drop nan rows\n",
    "df_new = df.dropna()\n",
    "\n",
    "pipeline_np = df_new[\"Pipeline_GT_IOU\"].to_numpy()\n",
    "wizart_np = df_new[\"Wizart_GT_IOU\"].to_numpy()"
   ]
  },
  {
   "cell_type": "code",
   "execution_count": 46,
   "metadata": {},
   "outputs": [
    {
     "name": "stdout",
     "output_type": "stream",
     "text": [
      "ShapiroResult(statistic=0.7533387541770935, pvalue=1.3337198652152438e-06)\n",
      "ShapiroResult(statistic=0.9200963973999023, pvalue=0.00989960040897131)\n",
      "WilcoxonResult(statistic=137.0, pvalue=0.0007078925705370894)\n"
     ]
    }
   ],
   "source": [
    "# Test both for Normality\n",
    "# https://docs.scipy.org/doc/scipy/reference/generated/scipy.stats.shapiro.html#scipy.stats.shapiro\n",
    "# If p value less than 0.05 then it's not normally distributed\n",
    "norm_pipeline = shapiro(pipeline_np)\n",
    "norm_wizart = shapiro(wizart_np)\n",
    "\n",
    "print(norm_pipeline)\n",
    "print(norm_wizart)\n",
    "\n",
    "# Wilcoxon test (to test significance)\n",
    "res_1 = wilcoxon(pipeline_np, wizart_np)\n",
    "print(res_1)\n",
    "# Significant"
   ]
  },
  {
   "cell_type": "code",
   "execution_count": 14,
   "metadata": {},
   "outputs": [],
   "source": [
    "df.to_csv(\"data-collection/outputs/segmentation-iou-2.csv\", index=False)"
   ]
  }
 ],
 "metadata": {
  "kernelspec": {
   "display_name": "pipeline1",
   "language": "python",
   "name": "python3"
  },
  "language_info": {
   "codemirror_mode": {
    "name": "ipython",
    "version": 3
   },
   "file_extension": ".py",
   "mimetype": "text/x-python",
   "name": "python",
   "nbconvert_exporter": "python",
   "pygments_lexer": "ipython3",
   "version": "3.7.12"
  }
 },
 "nbformat": 4,
 "nbformat_minor": 2
}
