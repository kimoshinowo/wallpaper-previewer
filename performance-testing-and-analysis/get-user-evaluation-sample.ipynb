{
 "cells": [
  {
   "cell_type": "code",
   "execution_count": 1,
   "metadata": {},
   "outputs": [],
   "source": [
    "import numpy as np\n",
    "from os import listdir"
   ]
  },
  {
   "cell_type": "code",
   "execution_count": 2,
   "metadata": {},
   "outputs": [
    {
     "name": "stdout",
     "output_type": "stream",
     "text": [
      "['ADE_val_00000079.jpeg', 'ADE_val_00000085.jpeg', 'ADE_val_00000091.jpeg', 'ADE_val_00000101.jpeg', 'ADE_val_00000141.jpeg', 'ADE_val_00000151.jpeg', 'ADE_val_00000160.jpeg', 'ADE_val_00000245.jpeg', 'ADE_val_00000303.jpeg', 'ADE_val_00000314.jpeg', 'ADE_val_00000316.jpeg', 'ADE_val_00000423.jpeg', 'ADE_val_00000467.jpeg', 'ADE_val_00000474.jpeg', 'ADE_val_00000480.jpeg', 'ADE_val_00000517.jpeg', 'ADE_val_00000522.jpeg', 'ADE_val_00001045.jpeg', 'ADE_val_00001081.jpeg', 'ADE_val_00001083.jpeg', 'ADE_val_00001097.jpeg', 'ADE_val_00001169.jpeg', 'ADE_val_00001312.jpeg', 'ADE_val_00001478.jpeg', 'ADE_val_00001505.jpeg', 'ADE_val_00001518.jpeg', 'ADE_val_00001525.jpeg', 'ADE_val_00001531.jpeg', 'ADE_val_00001638.jpeg', 'ADE_val_00001950.jpeg', 'bathroom.jpeg', 'bathroom2.jpeg', 'bathroom3.jpeg', 'bathroom4.jpeg', 'bedroom-2.jpeg', 'bedroom-4.jpeg', 'bedroom-5.jpeg', 'bedroom-6.jpeg', 'bedroom.jpeg', 'corridor.jpeg', 'dining-room4.jpeg', 'dining-room5.jpeg', 'dining-room6.jpeg', 'dining-room7.jpeg', 'dining-room8.jpeg', 'dining-room9.jpeg', 'empty.jpeg', 'empty2.jpeg', 'empty3.jpeg', 'empty4.jpeg', 'empty5.jpeg', 'empty6.jpeg', 'kitchen5.jpeg', 'kitchen6.jpeg', 'living-dining-room.jpeg', 'living-room-2.jpeg', 'living-room3.jpeg', 'living-room4.jpeg', 'my-bedroom.jpeg', 'nursery.jpeg', 'nursery2.jpeg', 'nursery3.jpeg', 'nursery4.jpeg', 'office4.jpeg', 'office5.jpeg', 'office6.jpeg']\n"
     ]
    }
   ],
   "source": [
    "folder_dir = \"c:/Users/Kim/Documents/Bath/Dissertation/wizart-results/outputs\"\n",
    "arr = []\n",
    "\n",
    "for image in listdir(folder_dir):\n",
    "    arr.append(image)\n",
    "\n",
    "print(arr)\n"
   ]
  },
  {
   "cell_type": "code",
   "execution_count": 7,
   "metadata": {},
   "outputs": [],
   "source": [
    "# Keep only images where geometry found\n",
    "arr = ['ADE_val_00000079.jpeg', 'ADE_val_00000101.jpeg', 'ADE_val_00000141.jpeg', 'ADE_val_00000151.jpeg', 'ADE_val_00000160.jpeg', 'ADE_val_00000245.jpeg', 'ADE_val_00000303.jpeg', 'ADE_val_00000316.jpeg', 'ADE_val_00000423.jpeg', 'ADE_val_00000467.jpeg', 'ADE_val_00000474.jpeg', 'ADE_val_00000517.jpeg', 'ADE_val_00000522.jpeg', 'ADE_val_00001083.jpeg', 'ADE_val_00001097.jpeg', 'ADE_val_00001169.jpeg', 'ADE_val_00001312.jpeg', 'ADE_val_00001478.jpeg', 'ADE_val_00001505.jpeg', 'ADE_val_00001518.jpeg', 'ADE_val_00001525.jpeg', 'ADE_val_00001531.jpeg', 'ADE_val_00001950.jpeg', 'bathroom.jpeg', 'bathroom2.jpeg', 'bathroom3.jpeg', 'bathroom4.jpeg', 'bedroom-2.jpeg', 'bedroom-4.jpeg', 'bedroom-5.jpeg', 'bedroom-6.jpeg', 'bedroom.jpeg', 'corridor.jpeg', 'dining-room4.jpeg', 'dining-room5.jpeg', 'dining-room6.jpeg', 'dining-room7.jpeg', 'dining-room8.jpeg', 'dining-room9.jpeg', 'empty.jpeg', 'empty2.jpeg', 'empty3.jpeg', 'empty4.jpeg', 'empty5.jpeg', 'empty6.jpeg', 'kitchen5.jpeg', 'kitchen6.jpeg', 'living-dining-room.jpeg', 'living-room-2.jpeg', 'living-room3.jpeg', 'living-room4.jpeg', 'my-bedroom.jpeg', 'nursery.jpeg', 'nursery2.jpeg', 'nursery3.jpeg', 'nursery4.jpeg', 'office4.jpeg', 'office5.jpeg', 'office6.jpeg']"
   ]
  },
  {
   "cell_type": "code",
   "execution_count": 12,
   "metadata": {},
   "outputs": [
    {
     "data": {
      "text/plain": [
       "array(['dining-room8.jpeg', 'ADE_val_00000467.jpeg', 'dining-room9.jpeg',\n",
       "       'bedroom-4.jpeg', 'ADE_val_00000160.jpeg', 'ADE_val_00000517.jpeg',\n",
       "       'empty5.jpeg', 'ADE_val_00001097.jpeg', 'my-bedroom.jpeg',\n",
       "       'empty2.jpeg'], dtype='<U23')"
      ]
     },
     "execution_count": 12,
     "metadata": {},
     "output_type": "execute_result"
    }
   ],
   "source": [
    "random_sample = np.random.choice(arr, 10, replace=False)\n",
    "random_sample"
   ]
  }
 ],
 "metadata": {
  "kernelspec": {
   "display_name": "pipeline1",
   "language": "python",
   "name": "python3"
  },
  "language_info": {
   "codemirror_mode": {
    "name": "ipython",
    "version": 3
   },
   "file_extension": ".py",
   "mimetype": "text/x-python",
   "name": "python",
   "nbconvert_exporter": "python",
   "pygments_lexer": "ipython3",
   "version": "3.7.12"
  }
 },
 "nbformat": 4,
 "nbformat_minor": 2
}
